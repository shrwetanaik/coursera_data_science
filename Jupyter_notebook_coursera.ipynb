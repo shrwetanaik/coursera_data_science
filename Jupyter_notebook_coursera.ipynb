{
 "cells": [
  {
   "cell_type": "code",
   "execution_count": 12,
   "id": "a2be9cb0",
   "metadata": {},
   "outputs": [],
   "source": [
    "#Exercise 2 - Create a markdown cell with the title of the notebook"
   ]
  },
  {
   "attachments": {},
   "cell_type": "markdown",
   "id": "9004627a",
   "metadata": {},
   "source": [
    "Jupyter_notebook_coursera\n"
   ]
  },
  {
   "cell_type": "code",
   "execution_count": 13,
   "id": "487dfb5e",
   "metadata": {},
   "outputs": [],
   "source": [
    "#Exercise 3 - Create a markdown cell for an introduction"
   ]
  },
  {
   "cell_type": "markdown",
   "id": "0035e644",
   "metadata": {},
   "source": [
    "Welcome to this course about Tools in Data Science. This course is designed for all learners who want to become data scientists. As a data scientist, you will be working with data. This course will provide you knowledge about various tools that you can use to analyze data and derive conclusions. You can also go through the course with or without programming knowledge. A data scientist’s toolkit consists of many tools and in this course, you will explore a variety of them in the following modules: Module 1: Overview of Data Science Tools Module 2: Languages of Data Science Module 3: Libraries, APIs, Datasets, and Models Module 4: Jupyter Project Module 5: RStudio and GitHub Module 6: Final Project - Create a Jupyter Notebook and Module 7 (an optional module): IBM Tools for Data Science Let’s now get some insight into what each module offers. In Module 1, you will learn about the different categories of Data Science tools and examples of Open Source and Commercial offerings in each category. In addition, you will learn how the tools overlap in functionality, and what their pros and cons are. Module 2 will give an overview of the commonly used languages that are available in data science, like Python, R, Scala, Java, Julia, and SQL and what they are used for. In the third module, you will learn about libraries that contain built-in modules providing different functionalities. You will also learn that an application programming interface (API) allows communication between two pieces of software. Further, in the module, you will explore open data sets on the Data Asset eXchange (DAX). Finally, you will learn how Machine learning (ML) uses algorithms – also known as “models” – to identify patterns in the data. In Module 4, you will learn about Project Jupyter - one of the most commonly used environments among data scientists. You will explore the three main applications of Project Jupyter: Jupyter Notebook, JupyterLab, and JupyterLite. In addition, you will be introduced to commercial Jupyter based applications such as IBM Watson Studio, and Google Colab. The module also gives an overview of Jupyter distributions that can be installed on your own system like Anaconda. Module 5 will start with an introduction to R and RStudio. You will learn about the different R visualization packages and how to create visual charts using the plot function. In addition, you will learn about GitHub, a popular version control platform that Data Scientists can use for sharing their projects and showcasing their portfolios. In Module 6, you will work on your final project in which you will create and share your Jupyter Notebook. You will submit your project and also grade your peers. Finally, Module 7 is an optional module that gives an insight into additional IBM tools like Watson Studio and IBM Cloud Pak for data as a service that includes IBM Watson Knowledge Catalog, IBM Watson Machine Learning and more. So, there is a lot to cover here! To get the most from this course, complete viewing each video, complete all hands-on labs, and check your learning with each quiz. We're very happy to have you with us as you start your Tools for Data Science journey. If you have any trouble with any of the course material, please don’t hesitate to contact us in the discussion forum. So, let's get started! And, good luck!"
   ]
  },
  {
   "cell_type": "code",
   "execution_count": 1,
   "id": "386fd617",
   "metadata": {},
   "outputs": [],
   "source": [
    "#Exercise 4 - Create a markdown cell to list data science languages."
   ]
  },
  {
   "cell_type": "markdown",
   "id": "2cb747b2",
   "metadata": {},
   "source": [
    "Data Science Languages\n",
    "Here are some popular languages used in data science:\n",
    "\n",
    "Python\n",
    "R\n",
    "Julia\n",
    "SAS\n",
    "MATLAB\n",
    "SQL"
   ]
  },
  {
   "cell_type": "code",
   "execution_count": 2,
   "id": "c24dbf19",
   "metadata": {},
   "outputs": [],
   "source": [
    "#Exercise 5 - Create a markdown cell to list data science libraries"
   ]
  },
  {
   "cell_type": "markdown",
   "id": "880366f0",
   "metadata": {},
   "source": [
    "Data Science Libraries\n",
    "Data science libraries provide a wide range of tools and functions that facilitate various aspects of data analysis and machine learning. Here are some popular libraries used in data science:\n",
    "\n",
    "NumPy: A fundamental library for numerical computing in Python, providing support for large, multi-dimensional arrays and matrices, along with a collection of mathematical functions.\n",
    "Pandas: A powerful library for data manipulation and analysis, offering data structures and operations for efficient handling of structured data, including data cleaning, filtering, grouping, and merging.\n",
    "Matplotlib: A versatile plotting library for creating static, animated, and interactive visualizations in Python, enabling data scientists to create a wide variety of plots and charts.\n",
    "Scikit-learn: A comprehensive machine learning library that provides a consistent interface for implementing various supervised and unsupervised learning algorithms, including classification, regression, clustering, and dimensionality reduction.\n",
    "TensorFlow: An open-source library for numerical computation and large-scale machine learning, particularly well-suited for deep learning tasks, with a flexible architecture that allows efficient deployment across different platforms.\n",
    "Keras: A high-level neural networks API that runs on top of TensorFlow, providing a user-friendly interface for building and training deep learning models, with support for both convolutional and recurrent neural networks.\n",
    "PyTorch: Another popular deep learning library that provides dynamic computational graphs and a flexible architecture, making it easier to develop and train neural networks, and widely used in research and industry.\n",
    "SciPy: A library for scientific and technical computing in Python, built on top of NumPy, offering a collection of numerical algorithms, optimization tools, signal and image processing functions, and more.\n",
    "Statsmodels: A library that focuses on statistical modeling and econometrics, providing a wide range of statistical models, regression analysis, time series analysis, and hypothesis testing capabilities."
   ]
  },
  {
   "cell_type": "code",
   "execution_count": null,
   "id": "53b5209d",
   "metadata": {},
   "outputs": [],
   "source": [
    "#Exercise 6 - Create a markdown cell with a table of Data Science tools."
   ]
  },
  {
   "cell_type": "markdown",
   "id": "8089ccf1",
   "metadata": {},
   "source": [
    "Data Science Tools:\n",
    "\t\n",
    "SAS. It is one of those data science tools which are specifically designed for statistical operation\t\t\n",
    "Apache Spark\t\t\n",
    "BigML"
   ]
  },
  {
   "cell_type": "code",
   "execution_count": null,
   "id": "a082bba2",
   "metadata": {},
   "outputs": [],
   "source": [
    "#Exercise 7 - Create a markdown cell introducing arithmetic expression examples."
   ]
  },
  {
   "cell_type": "code",
   "execution_count": 5,
   "id": "40879bbc",
   "metadata": {},
   "outputs": [
    {
     "data": {
      "text/plain": [
       "2"
      ]
     },
     "execution_count": 5,
     "metadata": {},
     "output_type": "execute_result"
    }
   ],
   "source": [
    "code = compile(\"10 // 4\", \"<string>\", \"eval\")\n",
    "eval(code)"
   ]
  },
  {
   "cell_type": "code",
   "execution_count": 6,
   "id": "9228e321",
   "metadata": {},
   "outputs": [
    {
     "data": {
      "text/plain": [
       "24"
      ]
     },
     "execution_count": 6,
     "metadata": {},
     "output_type": "execute_result"
    }
   ],
   "source": [
    "code = compile(\"20 + 4\", \"<string>\", \"eval\")\n",
    "eval(code)"
   ]
  },
  {
   "cell_type": "code",
   "execution_count": 7,
   "id": "3ecbae38",
   "metadata": {},
   "outputs": [],
   "source": [
    "#Exercise 8 - Create a code cell to multiply and add number"
   ]
  },
  {
   "cell_type": "code",
   "execution_count": 8,
   "id": "f541ca80",
   "metadata": {},
   "outputs": [
    {
     "data": {
      "text/plain": [
       "5"
      ]
     },
     "execution_count": 8,
     "metadata": {},
     "output_type": "execute_result"
    }
   ],
   "source": [
    "2+3"
   ]
  },
  {
   "cell_type": "code",
   "execution_count": 9,
   "id": "7e5ef32d",
   "metadata": {},
   "outputs": [
    {
     "data": {
      "text/plain": [
       "30"
      ]
     },
     "execution_count": 9,
     "metadata": {},
     "output_type": "execute_result"
    }
   ],
   "source": [
    "5*6"
   ]
  },
  {
   "cell_type": "code",
   "execution_count": 10,
   "id": "587ae1de",
   "metadata": {},
   "outputs": [],
   "source": [
    "#Exercise 9 - Create a code cell to convert minutes to hours"
   ]
  },
  {
   "cell_type": "code",
   "execution_count": 11,
   "id": "7e72c029",
   "metadata": {},
   "outputs": [
    {
     "name": "stdout",
     "output_type": "stream",
     "text": [
      "Equivalent hours: 2.5\n"
     ]
    }
   ],
   "source": [
    "minutes = 150\n",
    "hours = minutes / 60\n",
    "print(\"Equivalent hours:\", hours)"
   ]
  },
  {
   "cell_type": "code",
   "execution_count": null,
   "id": "a3d9ec26",
   "metadata": {},
   "outputs": [],
   "source": [
    "#Exercise 10 -Insert a markdown cell to list Objectives"
   ]
  },
  {
   "cell_type": "markdown",
   "id": "5790a987",
   "metadata": {},
   "source": [
    "Below the introduction cell created in Exercise 3, insert a new markdown cell to list the objectives that this notebook covered (i.e. some of the key takeaways from the course). In this new cell start with an introductory line titled: Objectives: in bold font. Then using an unordered list (bullets) indicate 3 to 5 items covered in this notebook, such as List popular languages for Data Science."
   ]
  },
  {
   "cell_type": "code",
   "execution_count": null,
   "id": "a591d208",
   "metadata": {},
   "outputs": [],
   "source": [
    "#Exercise 11 - Create a markdown cell to indicate the Author’s name"
   ]
  },
  {
   "cell_type": "markdown",
   "id": "9dca93dd",
   "metadata": {},
   "source": [
    "Author:\n",
    "Germano Costa"
   ]
  }
 ],
 "metadata": {
  "kernelspec": {
   "display_name": "Python 3",
   "language": "python",
   "name": "python3"
  },
  "language_info": {
   "codemirror_mode": {
    "name": "ipython",
    "version": 3
   },
   "file_extension": ".py",
   "mimetype": "text/x-python",
   "name": "python",
   "nbconvert_exporter": "python",
   "pygments_lexer": "ipython3",
   "version": "3.9.12"
  }
 },
 "nbformat": 4,
 "nbformat_minor": 5
}
